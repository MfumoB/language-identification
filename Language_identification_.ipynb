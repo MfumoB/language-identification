{
  "nbformat": 4,
  "nbformat_minor": 0,
  "metadata": {
    "colab": {
      "name": "Language identification .ipynb",
      "provenance": []
    },
    "kernelspec": {
      "name": "python3",
      "display_name": "Python 3"
    }
  },
  "cells": [
    {
      "cell_type": "markdown",
      "metadata": {
        "id": "EIZrLYlp3DwP"
      },
      "source": [
        "Importing Python Libraries"
      ]
    },
    {
      "cell_type": "code",
      "metadata": {
        "id": "o2v2sgUu4OQE"
      },
      "source": [
        "\n",
        "# Loading Data\n",
        "import pandas as pd\n",
        "import numpy as np\n",
        "import nltk\n",
        "import string\n",
        "import re\n",
        "import time\n",
        "\n",
        "# Data Preprocessing\n",
        "from sklearn.feature_extraction.text import TfidfVectorizer\n",
        "from nltk.stem import WordNetLemmatizer\n",
        "from nltk.corpus import stopwords\n",
        "from sklearn.utils import resample\n",
        "from nltk.tokenize import word_tokenize, TreebankWordTokenizer\n",
        "from nltk.stem import WordNetLemmatizer\n",
        "\n",
        "# Model Building\n",
        "from sklearn.linear_model import LogisticRegression\n",
        "from sklearn.naive_bayes import MultinomialNB\n",
        "from sklearn.ensemble import RandomForestClassifier, AdaBoostClassifier\n",
        "from sklearn.svm import LinearSVC\n",
        "from sklearn.model_selection import train_test_split\n",
        "from sklearn.naive_bayes import MultinomialNB\n",
        "from sklearn.tree import DecisionTreeClassifier\n",
        "from sklearn.svm import SVC\n",
        "from sklearn.linear_model import LogisticRegression\n",
        "from sklearn.model_selection import GridSearchCV, cross_val_score\n",
        "from sklearn.pipeline import Pipeline\n",
        "\n",
        "# Model Evaluation\n",
        "from sklearn.metrics import f1_score\n",
        "from sklearn.metrics import accuracy_score, classification_report, confusion_matrix\n",
        "from sklearn.metrics import recall_score\n",
        "from sklearn.metrics import precision_score\n",
        "from sklearn.model_selection import GridSearchCV, cross_val_score\n",
        "from sklearn.multiclass import OneVsRestClassifier, OneVsOneClassifier\n",
        "#from scikitplot.metrics import plot_roc, plot_confusion_matrix\n",
        "\n",
        "# Explore Data Analysis\n",
        "import seaborn as sns\n",
        "import matplotlib.pyplot as plt\n",
        "%matplotlib inline\n",
        "\n",
        "from wordcloud import WordCloud, STOPWORDS\n",
        "from matplotlib.pyplot import rcParams\n",
        "\n",
        "from sklearn.feature_extraction.text import CountVectorizer\n",
        "\n",
        "\n"
      ],
      "execution_count": 99,
      "outputs": []
    },
    {
      "cell_type": "markdown",
      "metadata": {
        "id": "RTQFi1qx4e8J"
      },
      "source": [
        "Load the data as a Pandas DataFrame"
      ]
    },
    {
      "cell_type": "code",
      "metadata": {
        "id": "KuoI6UfP4qQZ"
      },
      "source": [
        "train = pd.read_csv('train_set.csv')\n",
        "test = pd.read_csv('test_set.csv') "
      ],
      "execution_count": 2,
      "outputs": []
    },
    {
      "cell_type": "code",
      "metadata": {
        "colab": {
          "base_uri": "https://localhost:8080/",
          "height": 204
        },
        "id": "65pvLnDh5JIl",
        "outputId": "3ae7d27b-d6ee-4117-c6ed-b5ea069ab801"
      },
      "source": [
        "train.head()"
      ],
      "execution_count": 3,
      "outputs": [
        {
          "output_type": "execute_result",
          "data": {
            "text/html": [
              "<div>\n",
              "<style scoped>\n",
              "    .dataframe tbody tr th:only-of-type {\n",
              "        vertical-align: middle;\n",
              "    }\n",
              "\n",
              "    .dataframe tbody tr th {\n",
              "        vertical-align: top;\n",
              "    }\n",
              "\n",
              "    .dataframe thead th {\n",
              "        text-align: right;\n",
              "    }\n",
              "</style>\n",
              "<table border=\"1\" class=\"dataframe\">\n",
              "  <thead>\n",
              "    <tr style=\"text-align: right;\">\n",
              "      <th></th>\n",
              "      <th>lang_id</th>\n",
              "      <th>text</th>\n",
              "    </tr>\n",
              "  </thead>\n",
              "  <tbody>\n",
              "    <tr>\n",
              "      <th>0</th>\n",
              "      <td>xho</td>\n",
              "      <td>umgaqo-siseko wenza amalungiselelo kumaziko ax...</td>\n",
              "    </tr>\n",
              "    <tr>\n",
              "      <th>1</th>\n",
              "      <td>xho</td>\n",
              "      <td>i-dha iya kuba nobulumko bokubeka umsebenzi na...</td>\n",
              "    </tr>\n",
              "    <tr>\n",
              "      <th>2</th>\n",
              "      <td>eng</td>\n",
              "      <td>the province of kwazulu-natal department of tr...</td>\n",
              "    </tr>\n",
              "    <tr>\n",
              "      <th>3</th>\n",
              "      <td>nso</td>\n",
              "      <td>o netefatša gore o ba file dilo ka moka tše le...</td>\n",
              "    </tr>\n",
              "    <tr>\n",
              "      <th>4</th>\n",
              "      <td>ven</td>\n",
              "      <td>khomishini ya ndinganyiso ya mbeu yo ewa maana...</td>\n",
              "    </tr>\n",
              "  </tbody>\n",
              "</table>\n",
              "</div>"
            ],
            "text/plain": [
              "  lang_id                                               text\n",
              "0     xho  umgaqo-siseko wenza amalungiselelo kumaziko ax...\n",
              "1     xho  i-dha iya kuba nobulumko bokubeka umsebenzi na...\n",
              "2     eng  the province of kwazulu-natal department of tr...\n",
              "3     nso  o netefatša gore o ba file dilo ka moka tše le...\n",
              "4     ven  khomishini ya ndinganyiso ya mbeu yo ewa maana..."
            ]
          },
          "metadata": {
            "tags": []
          },
          "execution_count": 3
        }
      ]
    },
    {
      "cell_type": "code",
      "metadata": {
        "colab": {
          "base_uri": "https://localhost:8080/"
        },
        "id": "hPPt2u2O9-Vw",
        "outputId": "c51f35a1-724c-4e85-8045-19465b42a627"
      },
      "source": [
        "train.lang_id.value_counts()"
      ],
      "execution_count": 4,
      "outputs": [
        {
          "output_type": "execute_result",
          "data": {
            "text/plain": [
              "tso    2675\n",
              "xho    2672\n",
              "afr    2663\n",
              "zul    2657\n",
              "nso    2651\n",
              "tsn    2649\n",
              "nbl    2636\n",
              "eng    2635\n",
              "sot    2635\n",
              "ven    2608\n",
              "ssw    2606\n",
              "Name: lang_id, dtype: int64"
            ]
          },
          "metadata": {
            "tags": []
          },
          "execution_count": 4
        }
      ]
    },
    {
      "cell_type": "markdown",
      "metadata": {
        "id": "25WerfgCb8hw"
      },
      "source": [
        "Checking for null values in the data"
      ]
    },
    {
      "cell_type": "code",
      "metadata": {
        "colab": {
          "base_uri": "https://localhost:8080/"
        },
        "id": "Zy4LOVyu93sP",
        "outputId": "32c967ca-e73f-4cd5-9bea-276f56de1857"
      },
      "source": [
        "train.isnull().sum()"
      ],
      "execution_count": 5,
      "outputs": [
        {
          "output_type": "execute_result",
          "data": {
            "text/plain": [
              "lang_id    0\n",
              "text       0\n",
              "dtype: int64"
            ]
          },
          "metadata": {
            "tags": []
          },
          "execution_count": 5
        }
      ]
    },
    {
      "cell_type": "code",
      "metadata": {
        "colab": {
          "base_uri": "https://localhost:8080/"
        },
        "id": "8yhcOeIYb_ZC",
        "outputId": "48d00f9e-1c4e-4c21-c94e-2ea4b5f22566"
      },
      "source": [
        "test.isnull().sum()"
      ],
      "execution_count": 75,
      "outputs": [
        {
          "output_type": "execute_result",
          "data": {
            "text/plain": [
              "index    0\n",
              "text     0\n",
              "dtype: int64"
            ]
          },
          "metadata": {
            "tags": []
          },
          "execution_count": 75
        }
      ]
    },
    {
      "cell_type": "markdown",
      "metadata": {
        "id": "yu9ulT_GdY93"
      },
      "source": [
        "An overview of text statistics"
      ]
    },
    {
      "cell_type": "code",
      "metadata": {
        "colab": {
          "base_uri": "https://localhost:8080/"
        },
        "id": "wgM32JTDdMzu",
        "outputId": "f13756cb-c003-48ee-a6d3-47aa4834574e"
      },
      "source": [
        "#brief description of the train data\n",
        "train.text.describe()"
      ],
      "execution_count": 77,
      "outputs": [
        {
          "output_type": "execute_result",
          "data": {
            "text/plain": [
              "count                                                 29087\n",
              "unique                                                26681\n",
              "top       ngokwesekhtjheni yomthetho ophathelene nalokhu...\n",
              "freq                                                     15\n",
              "Name: text, dtype: object"
            ]
          },
          "metadata": {
            "tags": []
          },
          "execution_count": 77
        }
      ]
    },
    {
      "cell_type": "code",
      "metadata": {
        "colab": {
          "base_uri": "https://localhost:8080/"
        },
        "id": "Q5iWhTs7dh5b",
        "outputId": "f3f06c14-3805-4716-a38e-a6a11b7db12b"
      },
      "source": [
        "#brief description of the test data\n",
        "test.text.describe()"
      ],
      "execution_count": 79,
      "outputs": [
        {
          "output_type": "execute_result",
          "data": {
            "text/plain": [
              "count                        5682\n",
              "unique                       5459\n",
              "top       peomolao ya bosetšhaba.\n",
              "freq                            6\n",
              "Name: text, dtype: object"
            ]
          },
          "metadata": {
            "tags": []
          },
          "execution_count": 79
        }
      ]
    },
    {
      "cell_type": "code",
      "metadata": {
        "colab": {
          "base_uri": "https://localhost:8080/",
          "height": 452
        },
        "id": "fvI1f8Crdr8j",
        "outputId": "f7b6c337-18f7-42cb-8689-9ca0df75aa21"
      },
      "source": [
        "#description of the data per sentiment class\n",
        "train[['lang_id','text']].groupby('lang_id').describe()"
      ],
      "execution_count": 80,
      "outputs": [
        {
          "output_type": "execute_result",
          "data": {
            "text/html": [
              "<div>\n",
              "<style scoped>\n",
              "    .dataframe tbody tr th:only-of-type {\n",
              "        vertical-align: middle;\n",
              "    }\n",
              "\n",
              "    .dataframe tbody tr th {\n",
              "        vertical-align: top;\n",
              "    }\n",
              "\n",
              "    .dataframe thead tr th {\n",
              "        text-align: left;\n",
              "    }\n",
              "\n",
              "    .dataframe thead tr:last-of-type th {\n",
              "        text-align: right;\n",
              "    }\n",
              "</style>\n",
              "<table border=\"1\" class=\"dataframe\">\n",
              "  <thead>\n",
              "    <tr>\n",
              "      <th></th>\n",
              "      <th colspan=\"4\" halign=\"left\">text</th>\n",
              "    </tr>\n",
              "    <tr>\n",
              "      <th></th>\n",
              "      <th>count</th>\n",
              "      <th>unique</th>\n",
              "      <th>top</th>\n",
              "      <th>freq</th>\n",
              "    </tr>\n",
              "    <tr>\n",
              "      <th>lang_id</th>\n",
              "      <th></th>\n",
              "      <th></th>\n",
              "      <th></th>\n",
              "      <th></th>\n",
              "    </tr>\n",
              "  </thead>\n",
              "  <tbody>\n",
              "    <tr>\n",
              "      <th>afr</th>\n",
              "      <td>2663</td>\n",
              "      <td>2374</td>\n",
              "      <td>al die vorms van promosie kos jou onderneming ...</td>\n",
              "      <td>5</td>\n",
              "    </tr>\n",
              "    <tr>\n",
              "      <th>eng</th>\n",
              "      <td>2635</td>\n",
              "      <td>2634</td>\n",
              "      <td>provincial revenue includes budgeted equitable...</td>\n",
              "      <td>2</td>\n",
              "    </tr>\n",
              "    <tr>\n",
              "      <th>nbl</th>\n",
              "      <td>2636</td>\n",
              "      <td>2132</td>\n",
              "      <td>ngokwesekhtjheni yomthetho ophathelene nalokhu...</td>\n",
              "      <td>15</td>\n",
              "    </tr>\n",
              "    <tr>\n",
              "      <th>nso</th>\n",
              "      <td>2651</td>\n",
              "      <td>2553</td>\n",
              "      <td>bolwetši bo phatlalala ka phetelo ya lerothiny...</td>\n",
              "      <td>4</td>\n",
              "    </tr>\n",
              "    <tr>\n",
              "      <th>sot</th>\n",
              "      <td>2635</td>\n",
              "      <td>2501</td>\n",
              "      <td>tip-offs anonymous ke tshebeletso ya mohala wa...</td>\n",
              "      <td>6</td>\n",
              "    </tr>\n",
              "    <tr>\n",
              "      <th>ssw</th>\n",
              "      <td>2606</td>\n",
              "      <td>2182</td>\n",
              "      <td>lesifo sisabalala ngematfonsi ematse k k uma n...</td>\n",
              "      <td>5</td>\n",
              "    </tr>\n",
              "    <tr>\n",
              "      <th>tsn</th>\n",
              "      <td>2649</td>\n",
              "      <td>2544</td>\n",
              "      <td>diforomo tsa kopo di ka tsewa gongwe go isiwa ...</td>\n",
              "      <td>9</td>\n",
              "    </tr>\n",
              "    <tr>\n",
              "      <th>tso</th>\n",
              "      <td>2675</td>\n",
              "      <td>2474</td>\n",
              "      <td>ku ya hi xiyenge xa xa nawu u ni mfanelo yo ko...</td>\n",
              "      <td>9</td>\n",
              "    </tr>\n",
              "    <tr>\n",
              "      <th>ven</th>\n",
              "      <td>2608</td>\n",
              "      <td>2299</td>\n",
              "      <td>vhabebi vhanu vha tea u ṋekana nga vhuṱanzi ha...</td>\n",
              "      <td>7</td>\n",
              "    </tr>\n",
              "    <tr>\n",
              "      <th>xho</th>\n",
              "      <td>2672</td>\n",
              "      <td>2396</td>\n",
              "      <td>ukuthintelwa kweempawu ezibonisa ukungalungi k...</td>\n",
              "      <td>6</td>\n",
              "    </tr>\n",
              "    <tr>\n",
              "      <th>zul</th>\n",
              "      <td>2657</td>\n",
              "      <td>2592</td>\n",
              "      <td>i-tip-offs anonymous wusizo locingo oluzimele ...</td>\n",
              "      <td>5</td>\n",
              "    </tr>\n",
              "  </tbody>\n",
              "</table>\n",
              "</div>"
            ],
            "text/plain": [
              "         text                                                               \n",
              "        count unique                                                top freq\n",
              "lang_id                                                                     \n",
              "afr      2663   2374  al die vorms van promosie kos jou onderneming ...    5\n",
              "eng      2635   2634  provincial revenue includes budgeted equitable...    2\n",
              "nbl      2636   2132  ngokwesekhtjheni yomthetho ophathelene nalokhu...   15\n",
              "nso      2651   2553  bolwetši bo phatlalala ka phetelo ya lerothiny...    4\n",
              "sot      2635   2501  tip-offs anonymous ke tshebeletso ya mohala wa...    6\n",
              "ssw      2606   2182  lesifo sisabalala ngematfonsi ematse k k uma n...    5\n",
              "tsn      2649   2544  diforomo tsa kopo di ka tsewa gongwe go isiwa ...    9\n",
              "tso      2675   2474  ku ya hi xiyenge xa xa nawu u ni mfanelo yo ko...    9\n",
              "ven      2608   2299  vhabebi vhanu vha tea u ṋekana nga vhuṱanzi ha...    7\n",
              "xho      2672   2396  ukuthintelwa kweempawu ezibonisa ukungalungi k...    6\n",
              "zul      2657   2592  i-tip-offs anonymous wusizo locingo oluzimele ...    5"
            ]
          },
          "metadata": {
            "tags": []
          },
          "execution_count": 80
        }
      ]
    },
    {
      "cell_type": "code",
      "metadata": {
        "id": "Y23Igbw_d_vq"
      },
      "source": [
        ""
      ],
      "execution_count": null,
      "outputs": []
    },
    {
      "cell_type": "code",
      "metadata": {
        "id": "q9tU0Rte-yIT"
      },
      "source": [
        "X = train['text']\n",
        "y = train['lang_id']"
      ],
      "execution_count": 6,
      "outputs": []
    },
    {
      "cell_type": "markdown",
      "metadata": {
        "id": "LGYCXwMhFFAA"
      },
      "source": [
        "Splitting the training data into a training and validation set"
      ]
    },
    {
      "cell_type": "code",
      "metadata": {
        "id": "K2hH9IDK_5mT"
      },
      "source": [
        "X_train, X_test, y_train, y_test = train_test_split(X,y,test_size=.3, random_state=42)"
      ],
      "execution_count": 46,
      "outputs": []
    },
    {
      "cell_type": "markdown",
      "metadata": {
        "id": "p6gmovAwDRL_"
      },
      "source": [
        "Pipeline"
      ]
    },
    {
      "cell_type": "code",
      "metadata": {
        "id": "rJDqIifFDTib"
      },
      "source": [
        "#Logistic Regression\n",
        "lr = Pipeline([('tfidf', TfidfVectorizer()),\n",
        "               ('clf', LogisticRegression())])\n",
        "\n",
        "#Linear SVC\n",
        "rf = Pipeline([('tfidf', TfidfVectorizer()),\n",
        "                   ('clf', RandomForestClassifier())])\n",
        "\n",
        "\n",
        "#Random Forest Classifier\n",
        "dt = Pipeline([('tfidf', TfidfVectorizer()),\n",
        "               ('clf', DecisionTreeClassifier())])\n",
        "\n",
        "#Linear SVC\n",
        "linsvc = Pipeline([('tfidf', TfidfVectorizer()),\n",
        "                   ('clf', LinearSVC())])\n",
        "\n",
        "#Multinomial Naive Bayes\n",
        "param_grid = {'alpha':[0.01, 0.1, 1]}\n",
        "MNB = Pipeline([('tfidf', TfidfVectorizer(ngram_range=(1,3), min_df=2)),                         \n",
        "                  ('clf', GridSearchCV(MultinomialNB(),\n",
        "                                       param_grid=param_grid,\n",
        "                                       cv=5,\n",
        "                                       n_jobs=-1) )])   "
      ],
      "execution_count": 47,
      "outputs": []
    },
    {
      "cell_type": "markdown",
      "metadata": {
        "id": "eLTRxs_nFHw4"
      },
      "source": [
        "Random Forest Classifier"
      ]
    },
    {
      "cell_type": "code",
      "metadata": {
        "id": "ZfzZaP3qCDOV"
      },
      "source": [
        "# Random Forest Classifier\n",
        "rf.fit(X_train, y_train)\n",
        "y_pred_rf = rf.predict(X_test)"
      ],
      "execution_count": 48,
      "outputs": []
    },
    {
      "cell_type": "markdown",
      "metadata": {
        "id": "dyI5KTKyCZWL"
      },
      "source": [
        "Logistic Regression Classifier"
      ]
    },
    {
      "cell_type": "code",
      "metadata": {
        "colab": {
          "base_uri": "https://localhost:8080/"
        },
        "id": "xpyKcTm-FZ1s",
        "outputId": "57ed7bad-4466-4394-b390-3d697047e69f"
      },
      "source": [
        "# Logistic regression\n",
        "lr.fit(X_train, y_train) # fit the model\n",
        "y_pred_lr = lr.predict(X_test) # form a prediction set"
      ],
      "execution_count": 49,
      "outputs": [
        {
          "output_type": "stream",
          "text": [
            "/usr/local/lib/python3.6/dist-packages/sklearn/linear_model/_logistic.py:940: ConvergenceWarning: lbfgs failed to converge (status=1):\n",
            "STOP: TOTAL NO. of ITERATIONS REACHED LIMIT.\n",
            "\n",
            "Increase the number of iterations (max_iter) or scale the data as shown in:\n",
            "    https://scikit-learn.org/stable/modules/preprocessing.html\n",
            "Please also refer to the documentation for alternative solver options:\n",
            "    https://scikit-learn.org/stable/modules/linear_model.html#logistic-regression\n",
            "  extra_warning_msg=_LOGISTIC_SOLVER_CONVERGENCE_MSG)\n"
          ],
          "name": "stderr"
        }
      ]
    },
    {
      "cell_type": "markdown",
      "metadata": {
        "id": "80VAQVy0FayB"
      },
      "source": [
        "Decision Tree Classifier"
      ]
    },
    {
      "cell_type": "code",
      "metadata": {
        "id": "jJ1zudMqIYN_"
      },
      "source": [
        "# Decision Tree\n",
        "dt.fit(X_train, y_train) # fit the model\n",
        "y_pred_dt = dt.predict(X_test) # form a prediction set"
      ],
      "execution_count": 50,
      "outputs": []
    },
    {
      "cell_type": "markdown",
      "metadata": {
        "id": "_BFpjbjnJQ84"
      },
      "source": [
        "LinearSVC"
      ]
    },
    {
      "cell_type": "code",
      "metadata": {
        "id": "d3rY1gyYJTuD"
      },
      "source": [
        "# Linear SVC\n",
        "linsvc.fit(X_train, y_train)\n",
        "y_pred_linsvc = linsvc.predict(X_test)"
      ],
      "execution_count": 51,
      "outputs": []
    },
    {
      "cell_type": "markdown",
      "metadata": {
        "id": "gUOLtPMWMbjG"
      },
      "source": [
        "MultinomialNB"
      ]
    },
    {
      "cell_type": "code",
      "metadata": {
        "id": "xiLzQjYwMfmc"
      },
      "source": [
        "# MultinomialNB\n",
        "MNB.fit(X_train, y_train)\n",
        "y_pred_MNB = MNB.predict(X_test)"
      ],
      "execution_count": 52,
      "outputs": []
    },
    {
      "cell_type": "markdown",
      "metadata": {
        "id": "RSIfhptiI_24"
      },
      "source": [
        "Model Evaluation"
      ]
    },
    {
      "cell_type": "markdown",
      "metadata": {
        "id": "fgi8QX2pJGo6"
      },
      "source": [
        "The base model will be evaluated using the validation dataset that was kept aside from the training data. After a test dataset will be used to make predictions. That will help us to understand whether we are overfitting our model or not."
      ]
    },
    {
      "cell_type": "markdown",
      "metadata": {
        "id": "CrwTWTSFS6lT"
      },
      "source": [
        "Model evaluation using validation data"
      ]
    },
    {
      "cell_type": "markdown",
      "metadata": {
        "id": "gX5MTGrXTBSy"
      },
      "source": [
        "The training data set was split into a training set and an evaluation set. The evaluation set will be used to evaluate the model before evaluated using the test dataset."
      ]
    },
    {
      "cell_type": "markdown",
      "metadata": {
        "id": "K6gHaLhuzeek"
      },
      "source": [
        "Model evaluation using test data"
      ]
    },
    {
      "cell_type": "markdown",
      "metadata": {
        "id": "KZRSboHnzvgR"
      },
      "source": [
        "Data tranformation with Vectorizer"
      ]
    },
    {
      "cell_type": "markdown",
      "metadata": {
        "id": "bWQLg1qy0Pv6"
      },
      "source": [
        "Making predictions on the test set"
      ]
    },
    {
      "cell_type": "markdown",
      "metadata": {
        "id": "Xw1ExqmM1CvI"
      },
      "source": [
        "Model Analysis"
      ]
    },
    {
      "cell_type": "markdown",
      "metadata": {
        "id": "cecvUwYu1lt9"
      },
      "source": [
        "The performance of a clssification model is based on the counts of test record corrently and incorrectly predicted by the model."
      ]
    },
    {
      "cell_type": "markdown",
      "metadata": {
        "id": "GkhiXx821pJQ"
      },
      "source": [
        "Classification Report"
      ]
    },
    {
      "cell_type": "markdown",
      "metadata": {
        "id": "PBhcj6B11sdP"
      },
      "source": [
        "Random Forest Classifier"
      ]
    },
    {
      "cell_type": "code",
      "metadata": {
        "colab": {
          "base_uri": "https://localhost:8080/"
        },
        "id": "Ez22RfwF1yYC",
        "outputId": "722197e1-ebb2-4f7d-a5cd-a75977779cde"
      },
      "source": [
        "print(\"Classification Report for Validation Dataset\")\n",
        "print(classification_report(y_test, y_pred_rf))"
      ],
      "execution_count": 53,
      "outputs": [
        {
          "output_type": "stream",
          "text": [
            "Classification Report for Validation Dataset\n",
            "              precision    recall  f1-score   support\n",
            "\n",
            "         afr       1.00      1.00      1.00       831\n",
            "         eng       0.99      1.00      1.00       782\n",
            "         nbl       0.97      0.96      0.97       751\n",
            "         nso       1.00      0.99      1.00       792\n",
            "         sot       1.00      1.00      1.00       782\n",
            "         ssw       0.99      0.95      0.97       787\n",
            "         tsn       0.99      1.00      1.00       804\n",
            "         tso       1.00      1.00      1.00       789\n",
            "         ven       1.00      1.00      1.00       809\n",
            "         xho       0.98      0.97      0.98       823\n",
            "         zul       0.92      0.97      0.95       777\n",
            "\n",
            "    accuracy                           0.99      8727\n",
            "   macro avg       0.99      0.99      0.99      8727\n",
            "weighted avg       0.99      0.99      0.99      8727\n",
            "\n"
          ],
          "name": "stdout"
        }
      ]
    },
    {
      "cell_type": "markdown",
      "metadata": {
        "id": "mlNkTLNO12Uk"
      },
      "source": [
        "Logistic Classifier"
      ]
    },
    {
      "cell_type": "code",
      "metadata": {
        "colab": {
          "base_uri": "https://localhost:8080/"
        },
        "id": "zeyTUlMa2XRR",
        "outputId": "941bf642-b0aa-42bb-be13-c39a451e14e3"
      },
      "source": [
        "print(classification_report(y_test, y_pred_lr))"
      ],
      "execution_count": 54,
      "outputs": [
        {
          "output_type": "stream",
          "text": [
            "              precision    recall  f1-score   support\n",
            "\n",
            "         afr       1.00      0.99      1.00       831\n",
            "         eng       1.00      1.00      1.00       782\n",
            "         nbl       0.99      0.98      0.99       751\n",
            "         nso       1.00      0.99      1.00       792\n",
            "         sot       1.00      1.00      1.00       782\n",
            "         ssw       0.99      0.99      0.99       787\n",
            "         tsn       1.00      1.00      1.00       804\n",
            "         tso       1.00      1.00      1.00       789\n",
            "         ven       1.00      1.00      1.00       809\n",
            "         xho       0.99      1.00      0.99       823\n",
            "         zul       0.98      0.98      0.98       777\n",
            "\n",
            "    accuracy                           0.99      8727\n",
            "   macro avg       0.99      0.99      0.99      8727\n",
            "weighted avg       0.99      0.99      0.99      8727\n",
            "\n"
          ],
          "name": "stdout"
        }
      ]
    },
    {
      "cell_type": "markdown",
      "metadata": {
        "id": "9bmlzA9-2f1G"
      },
      "source": [
        "Decision Tree Classifier"
      ]
    },
    {
      "cell_type": "code",
      "metadata": {
        "colab": {
          "base_uri": "https://localhost:8080/"
        },
        "id": "fY1Jw8Sa2oWa",
        "outputId": "ee6ee198-3d75-464f-d3a7-5b223b33c081"
      },
      "source": [
        "print(classification_report(y_test, y_pred_dt))"
      ],
      "execution_count": 55,
      "outputs": [
        {
          "output_type": "stream",
          "text": [
            "              precision    recall  f1-score   support\n",
            "\n",
            "         afr       1.00      0.99      1.00       831\n",
            "         eng       0.98      1.00      0.99       782\n",
            "         nbl       0.88      0.90      0.89       751\n",
            "         nso       0.98      0.96      0.97       792\n",
            "         sot       0.98      0.98      0.98       782\n",
            "         ssw       0.95      0.86      0.90       787\n",
            "         tsn       0.96      0.98      0.97       804\n",
            "         tso       0.98      0.99      0.98       789\n",
            "         ven       0.98      0.99      0.98       809\n",
            "         xho       0.93      0.89      0.91       823\n",
            "         zul       0.80      0.87      0.83       777\n",
            "\n",
            "    accuracy                           0.95      8727\n",
            "   macro avg       0.95      0.95      0.95      8727\n",
            "weighted avg       0.95      0.95      0.95      8727\n",
            "\n"
          ],
          "name": "stdout"
        }
      ]
    },
    {
      "cell_type": "markdown",
      "metadata": {
        "id": "U6LQ_WdzJwoF"
      },
      "source": [
        "LinearSVC"
      ]
    },
    {
      "cell_type": "code",
      "metadata": {
        "colab": {
          "base_uri": "https://localhost:8080/"
        },
        "id": "fI-ZUnqJJyyW",
        "outputId": "15ae8572-3057-4532-d8bd-bb3187b3a637"
      },
      "source": [
        "print(\"Classification Report for Validation Dataset\")\n",
        "print(classification_report(y_test, y_pred_linsvc))"
      ],
      "execution_count": 56,
      "outputs": [
        {
          "output_type": "stream",
          "text": [
            "Classification Report for Validation Dataset\n",
            "              precision    recall  f1-score   support\n",
            "\n",
            "         afr       1.00      1.00      1.00       831\n",
            "         eng       1.00      1.00      1.00       782\n",
            "         nbl       0.99      0.99      0.99       751\n",
            "         nso       1.00      1.00      1.00       792\n",
            "         sot       1.00      1.00      1.00       782\n",
            "         ssw       1.00      0.99      1.00       787\n",
            "         tsn       1.00      1.00      1.00       804\n",
            "         tso       1.00      1.00      1.00       789\n",
            "         ven       1.00      1.00      1.00       809\n",
            "         xho       1.00      1.00      1.00       823\n",
            "         zul       0.99      0.99      0.99       777\n",
            "\n",
            "    accuracy                           1.00      8727\n",
            "   macro avg       1.00      1.00      1.00      8727\n",
            "weighted avg       1.00      1.00      1.00      8727\n",
            "\n"
          ],
          "name": "stdout"
        }
      ]
    },
    {
      "cell_type": "code",
      "metadata": {
        "colab": {
          "base_uri": "https://localhost:8080/"
        },
        "id": "Mgmomc7DM_Zi",
        "outputId": "0da94a03-c5b5-415d-933f-cee494b43ac8"
      },
      "source": [
        "print(\"Classification Report for Validation Dataset\")\n",
        "print(classification_report(y_test, y_pred_MNB))"
      ],
      "execution_count": 57,
      "outputs": [
        {
          "output_type": "stream",
          "text": [
            "Classification Report for Validation Dataset\n",
            "              precision    recall  f1-score   support\n",
            "\n",
            "         afr       1.00      1.00      1.00       831\n",
            "         eng       0.99      1.00      1.00       782\n",
            "         nbl       1.00      0.99      1.00       751\n",
            "         nso       1.00      1.00      1.00       792\n",
            "         sot       1.00      1.00      1.00       782\n",
            "         ssw       1.00      1.00      1.00       787\n",
            "         tsn       1.00      1.00      1.00       804\n",
            "         tso       1.00      1.00      1.00       789\n",
            "         ven       1.00      1.00      1.00       809\n",
            "         xho       1.00      1.00      1.00       823\n",
            "         zul       0.99      0.99      0.99       777\n",
            "\n",
            "    accuracy                           1.00      8727\n",
            "   macro avg       1.00      1.00      1.00      8727\n",
            "weighted avg       1.00      1.00      1.00      8727\n",
            "\n"
          ],
          "name": "stdout"
        }
      ]
    },
    {
      "cell_type": "markdown",
      "metadata": {
        "id": "1tBRHrWi2x55"
      },
      "source": [
        "Overall f1-score"
      ]
    },
    {
      "cell_type": "code",
      "metadata": {
        "id": "Q1-t3MWP22kT"
      },
      "source": [
        "# Random Forest\n",
        "rfc_f1=f1_score(y_test, y_pred_rf, average=\"macro\")\n",
        "# Logistic Model\n",
        "lmc_f1=f1_score(y_test, y_pred_lr, average=\"macro\")\n",
        "#Decision Tree\n",
        "dtc_f1=f1_score(y_test, y_pred_dt, average=\"macro\")\n",
        "#LinearSVC\n",
        "linSVC_f1=f1_score(y_test, y_pred_linsvc, average=\"macro\")\n",
        "#MultinomialNB\n",
        "MNB_f1=f1_score(y_test, y_pred_MNB, average=\"macro\")"
      ],
      "execution_count": 58,
      "outputs": []
    },
    {
      "cell_type": "markdown",
      "metadata": {
        "id": "WIB_xP6G26F5"
      },
      "source": [
        " Submissions\n"
      ]
    },
    {
      "cell_type": "code",
      "metadata": {
        "colab": {
          "base_uri": "https://localhost:8080/",
          "height": 419
        },
        "id": "mNFSI2li3NRS",
        "outputId": "f59718c0-3481-4352-e8ec-4097d3ec573c"
      },
      "source": [
        "df1 = test.copy()\n",
        "df1"
      ],
      "execution_count": 59,
      "outputs": [
        {
          "output_type": "execute_result",
          "data": {
            "text/html": [
              "<div>\n",
              "<style scoped>\n",
              "    .dataframe tbody tr th:only-of-type {\n",
              "        vertical-align: middle;\n",
              "    }\n",
              "\n",
              "    .dataframe tbody tr th {\n",
              "        vertical-align: top;\n",
              "    }\n",
              "\n",
              "    .dataframe thead th {\n",
              "        text-align: right;\n",
              "    }\n",
              "</style>\n",
              "<table border=\"1\" class=\"dataframe\">\n",
              "  <thead>\n",
              "    <tr style=\"text-align: right;\">\n",
              "      <th></th>\n",
              "      <th>index</th>\n",
              "      <th>text</th>\n",
              "    </tr>\n",
              "  </thead>\n",
              "  <tbody>\n",
              "    <tr>\n",
              "      <th>0</th>\n",
              "      <td>1</td>\n",
              "      <td>Mmasepala, fa maemo a a kgethegileng a letlele...</td>\n",
              "    </tr>\n",
              "    <tr>\n",
              "      <th>1</th>\n",
              "      <td>2</td>\n",
              "      <td>Uzakwaziswa ngokufaneleko nakungafuneka eminye...</td>\n",
              "    </tr>\n",
              "    <tr>\n",
              "      <th>2</th>\n",
              "      <td>3</td>\n",
              "      <td>Tshivhumbeo tshi fana na ngano dza vhathu.</td>\n",
              "    </tr>\n",
              "    <tr>\n",
              "      <th>3</th>\n",
              "      <td>4</td>\n",
              "      <td>Kube inja nelikati betingevakala kutsi titsini...</td>\n",
              "    </tr>\n",
              "    <tr>\n",
              "      <th>4</th>\n",
              "      <td>5</td>\n",
              "      <td>Winste op buitelandse valuta.</td>\n",
              "    </tr>\n",
              "    <tr>\n",
              "      <th>...</th>\n",
              "      <td>...</td>\n",
              "      <td>...</td>\n",
              "    </tr>\n",
              "    <tr>\n",
              "      <th>5677</th>\n",
              "      <td>5678</td>\n",
              "      <td>You mark your ballot in private.</td>\n",
              "    </tr>\n",
              "    <tr>\n",
              "      <th>5678</th>\n",
              "      <td>5679</td>\n",
              "      <td>Ge o ka kgetha ka bowena go se šomiše Mofani k...</td>\n",
              "    </tr>\n",
              "    <tr>\n",
              "      <th>5679</th>\n",
              "      <td>5680</td>\n",
              "      <td>E Ka kopo etsa kgetho ya hao ka hloko, hobane ...</td>\n",
              "    </tr>\n",
              "    <tr>\n",
              "      <th>5680</th>\n",
              "      <td>5681</td>\n",
              "      <td>TB ke bokudi ba PMB, mme Morero o tla lefella ...</td>\n",
              "    </tr>\n",
              "    <tr>\n",
              "      <th>5681</th>\n",
              "      <td>5682</td>\n",
              "      <td>Vakatjhela iwebhusayidi yethu ku-www.</td>\n",
              "    </tr>\n",
              "  </tbody>\n",
              "</table>\n",
              "<p>5682 rows × 2 columns</p>\n",
              "</div>"
            ],
            "text/plain": [
              "      index                                               text\n",
              "0         1  Mmasepala, fa maemo a a kgethegileng a letlele...\n",
              "1         2  Uzakwaziswa ngokufaneleko nakungafuneka eminye...\n",
              "2         3         Tshivhumbeo tshi fana na ngano dza vhathu.\n",
              "3         4  Kube inja nelikati betingevakala kutsi titsini...\n",
              "4         5                      Winste op buitelandse valuta.\n",
              "...     ...                                                ...\n",
              "5677   5678                   You mark your ballot in private.\n",
              "5678   5679  Ge o ka kgetha ka bowena go se šomiše Mofani k...\n",
              "5679   5680  E Ka kopo etsa kgetho ya hao ka hloko, hobane ...\n",
              "5680   5681  TB ke bokudi ba PMB, mme Morero o tla lefella ...\n",
              "5681   5682              Vakatjhela iwebhusayidi yethu ku-www.\n",
              "\n",
              "[5682 rows x 2 columns]"
            ]
          },
          "metadata": {
            "tags": []
          },
          "execution_count": 59
        }
      ]
    },
    {
      "cell_type": "code",
      "metadata": {
        "id": "8hXCBsTp7N-G"
      },
      "source": [
        "test_X = df1.text"
      ],
      "execution_count": 60,
      "outputs": []
    },
    {
      "cell_type": "code",
      "metadata": {
        "id": "Ax2FkMooKVPa"
      },
      "source": [
        "y_pred =MNB.predict(test_X)"
      ],
      "execution_count": 104,
      "outputs": []
    },
    {
      "cell_type": "code",
      "metadata": {
        "id": "2KEvNs-28djb"
      },
      "source": [
        "df1['lang_id'] = y_pred"
      ],
      "execution_count": 105,
      "outputs": []
    },
    {
      "cell_type": "code",
      "metadata": {
        "colab": {
          "base_uri": "https://localhost:8080/",
          "height": 204
        },
        "id": "G-W2BPzRHhpP",
        "outputId": "73af1bad-0ce8-43a0-bef2-346297d3a50a"
      },
      "source": [
        "df1.head()"
      ],
      "execution_count": 106,
      "outputs": [
        {
          "output_type": "execute_result",
          "data": {
            "text/html": [
              "<div>\n",
              "<style scoped>\n",
              "    .dataframe tbody tr th:only-of-type {\n",
              "        vertical-align: middle;\n",
              "    }\n",
              "\n",
              "    .dataframe tbody tr th {\n",
              "        vertical-align: top;\n",
              "    }\n",
              "\n",
              "    .dataframe thead th {\n",
              "        text-align: right;\n",
              "    }\n",
              "</style>\n",
              "<table border=\"1\" class=\"dataframe\">\n",
              "  <thead>\n",
              "    <tr style=\"text-align: right;\">\n",
              "      <th></th>\n",
              "      <th>index</th>\n",
              "      <th>text</th>\n",
              "      <th>lang_id</th>\n",
              "    </tr>\n",
              "  </thead>\n",
              "  <tbody>\n",
              "    <tr>\n",
              "      <th>0</th>\n",
              "      <td>1</td>\n",
              "      <td>Mmasepala, fa maemo a a kgethegileng a letlele...</td>\n",
              "      <td>tsn</td>\n",
              "    </tr>\n",
              "    <tr>\n",
              "      <th>1</th>\n",
              "      <td>2</td>\n",
              "      <td>Uzakwaziswa ngokufaneleko nakungafuneka eminye...</td>\n",
              "      <td>nbl</td>\n",
              "    </tr>\n",
              "    <tr>\n",
              "      <th>2</th>\n",
              "      <td>3</td>\n",
              "      <td>Tshivhumbeo tshi fana na ngano dza vhathu.</td>\n",
              "      <td>ven</td>\n",
              "    </tr>\n",
              "    <tr>\n",
              "      <th>3</th>\n",
              "      <td>4</td>\n",
              "      <td>Kube inja nelikati betingevakala kutsi titsini...</td>\n",
              "      <td>ssw</td>\n",
              "    </tr>\n",
              "    <tr>\n",
              "      <th>4</th>\n",
              "      <td>5</td>\n",
              "      <td>Winste op buitelandse valuta.</td>\n",
              "      <td>afr</td>\n",
              "    </tr>\n",
              "  </tbody>\n",
              "</table>\n",
              "</div>"
            ],
            "text/plain": [
              "   index                                               text lang_id\n",
              "0      1  Mmasepala, fa maemo a a kgethegileng a letlele...     tsn\n",
              "1      2  Uzakwaziswa ngokufaneleko nakungafuneka eminye...     nbl\n",
              "2      3         Tshivhumbeo tshi fana na ngano dza vhathu.     ven\n",
              "3      4  Kube inja nelikati betingevakala kutsi titsini...     ssw\n",
              "4      5                      Winste op buitelandse valuta.     afr"
            ]
          },
          "metadata": {
            "tags": []
          },
          "execution_count": 106
        }
      ]
    },
    {
      "cell_type": "markdown",
      "metadata": {
        "id": "ZOYVp8T63U6B"
      },
      "source": [
        "Creating an output csv for submission"
      ]
    },
    {
      "cell_type": "code",
      "metadata": {
        "id": "BDfB42teHoOJ"
      },
      "source": [
        "df1[['index', 'lang_id']].to_csv('submission7.csv', index=False)"
      ],
      "execution_count": 64,
      "outputs": []
    },
    {
      "cell_type": "markdown",
      "metadata": {
        "id": "UxwDmq0iZIUR"
      },
      "source": [
        "Hyperparameter Tuning"
      ]
    },
    {
      "cell_type": "code",
      "metadata": {
        "colab": {
          "base_uri": "https://localhost:8080/"
        },
        "id": "Ijtznv88hGrT",
        "outputId": "c7995b06-3198-4a70-f9c0-d49b3aedfc03"
      },
      "source": [
        "tfid = TfidfVectorizer()\n",
        "\n",
        "text = tfid.fit_transform(train['text'])\n",
        "X_train_h, X_test_h, y_train_h, y_test_h = train_test_split(text, y, test_size = 0.3, random_state=42)\n",
        "params = {'alpha': [1, 0.1, 0.01, 0.001, 0.0001, 0.00001]}\n",
        "\n",
        "grid_MNB = GridSearchCV(MultinomialNB(), params)\n",
        "grid_MNB.fit(X_train_h, y_train_h)\n",
        "print(grid_MNB.best_params_)"
      ],
      "execution_count": 84,
      "outputs": [
        {
          "output_type": "stream",
          "text": [
            "{'alpha': 0.1}\n"
          ],
          "name": "stdout"
        }
      ]
    },
    {
      "cell_type": "code",
      "metadata": {
        "id": "7CCWOBd0hNBV"
      },
      "source": [
        "#Multinomial Naive Bayes\n",
        "MNB = Pipeline([('tfidf', TfidfVectorizer()),                         \n",
        "                  ('clf', MultinomialNB(alpha = 0.1))])   "
      ],
      "execution_count": 110,
      "outputs": []
    },
    {
      "cell_type": "code",
      "metadata": {
        "id": "bgVsEvHwjyhs"
      },
      "source": [
        "# MultinomialNB\n",
        "MNB.fit(X_train, y_train)\n",
        "y_pred_MNB = MNB.predict(X_test)"
      ],
      "execution_count": 97,
      "outputs": []
    },
    {
      "cell_type": "code",
      "metadata": {
        "id": "-APPyzOxku6V"
      },
      "source": [
        "df1[['index', 'lang_id']].to_csv('submission9.csv', index=False)\n"
      ],
      "execution_count": 109,
      "outputs": []
    },
    {
      "cell_type": "code",
      "metadata": {
        "id": "K99uFzN0qjdo"
      },
      "source": [
        ""
      ],
      "execution_count": null,
      "outputs": []
    }
  ]
}